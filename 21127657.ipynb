{
 "cells": [
  {
   "attachments": {},
   "cell_type": "markdown",
   "metadata": {},
   "source": [
    "# Đồ án 1: Color Compression\n",
    "### Mã số sinh viên: 21127657\n",
    "### Họ tên: Nguyễn Khánh Nhân\n",
    "### Lớp: 21CLC02\n",
    "---"
   ]
  },
  {
   "cell_type": "markdown",
   "metadata": {},
   "source": [
    "# A. Mã nguồn của toàn bộ chương trình"
   ]
  },
  {
   "cell_type": "code",
   "execution_count": 14,
   "metadata": {},
   "outputs": [],
   "source": [
    "import numpy as np\n",
    "from PIL import Image\n",
    "import matplotlib.pyplot as plt\n",
    "import time\n",
    "\n",
    "def calc_distances(X, Y):\n",
    "    \"\"\"\n",
    "    Tính khoảng cách Euclid giữa các điểm ảnh trong ma trận X và các centroids trong ma trận Y.\n",
    "    Input:\n",
    "        X: ma trận có kích thước (m, n), m là số lượng điểm (pixel), n là số chiều của mỗi điểm (số kênh màu).\n",
    "        Y: ma trận có kích thước (k, n), k là số lượng centroids, n là số chiều của mỗi điểm (số kênh màu).\n",
    "    Output:\n",
    "        ma trận chứa các khoảng cách có kích thước (m, k).\n",
    "    \"\"\"\n",
    "    m = X.shape[0]\n",
    "    k = Y.shape[0]\n",
    "    distances = np.zeros((m, k))\n",
    "    for i in range(m):\n",
    "        for j in range(k):\n",
    "            distances[i, j] = np.linalg.norm(X[i]-Y[j])\n",
    "    return distances\n",
    "\n",
    "def grouping_pixels_1(i, labels):\n",
    "    \"\"\"\n",
    "    Thực hiện gom nhóm các điểm ảnh thuộc nhóm đang xét nhờ kĩ thuật dùng mảng boolean hay\n",
    "    còn gọi là mask trong numpy.\n",
    "    \n",
    "    Input:\n",
    "        i: index của nhóm đang xét\n",
    "        labels: mảng labels của các điểm ảnh\n",
    "    Output: \n",
    "        list chứa các index của các điểm ảnh thuộc nhóm i\n",
    "    \"\"\"\n",
    "    return [j for j in range(labels.shape[0]) if labels[j] == i]\n",
    "\n",
    "def grouping_pixels_2(i, labels):\n",
    "    \"\"\"\n",
    "    Thực hiện gom nhóm các điểm ảnh thuộc nhóm đang xét nhờ kĩ thuật dùng mảng boolean hay\n",
    "    còn gọi là mask trong numpy.\n",
    "    \n",
    "    Input:\n",
    "        i: index của nhóm đang xét\n",
    "        labels: mảng labels của các điểm ảnh\n",
    "        img_1d: mảng các điểm ảnh\n",
    "    Output: \n",
    "        Mảng boolean cho biết điểm ảnh nào sẽ thuộc nhóm i\n",
    "    \"\"\"\n",
    "    bool_arr = (labels == i)\n",
    "    return  bool_arr\n",
    "                \n",
    "\n",
    "def kmeans(img_1d, k_clusters, max_iter=10, init_centroids=\"random\"):\n",
    "    \"\"\"Sử dụng thuật toán K-Means để tìm các centroids\"\"\"\n",
    "    \n",
    "    # Khởi tạo các centroids\n",
    "    if init_centroids == \"random\":\n",
    "        centroids = np.random.randint(0, 266, size=(k_clusters, img_1d.shape[1])).astype('float')\n",
    "    elif init_centroids == \"in_pixels\":\n",
    "        centroids_index = np.random.choice(img_1d.shape[0], size=k_clusters, replace=False)\n",
    "        centroids = img_1d[centroids_index].astype('float')\n",
    "    else:\n",
    "        raise ValueError(\"Cách khởi tạo centroid không hợp lệ!!\")\n",
    "    # Khởi tạo các label với giá trị -1\n",
    "    labels = np.ones(shape=img_1d.shape[0]) * -1\n",
    "    # Thực hiện gom nhóm và tính toán lại các centroids\n",
    "    for _ in range(max_iter):\n",
    "        # cách 1: sử dụng hàm calc_distances() tự viết => Tốn rất nhiều thời gian\n",
    "        # distances = calc_distances(img_1d, centroids)\n",
    "        \n",
    "        # cách 2: sử dụng hàm norm có sẵn trong numpy.linalg\n",
    "        distance_vectors = img_1d[:, np.newaxis] - centroids\n",
    "        distances = np.linalg.norm(distance_vectors, axis=2)\n",
    "        \n",
    "        new_labels = np.argmin(distances, axis=1)\n",
    "        # Nếu toàn bộ label của điểm ảnh không đổi thì ta sẽ dừng thuật toán K-Means ngay\n",
    "        if np.array_equal(new_labels, labels):\n",
    "            break\n",
    "        # Lần lượt cập nhật lại k centroid mới\n",
    "        for i in range(k_clusters):\n",
    "            group_pixels = img_1d[grouping_pixels_2(i, new_labels)]\n",
    "            if group_pixels.size > 0: \n",
    "                centroids[i] = np.mean(group_pixels, axis=0)\n",
    "        # Cập nhật lại labels        \n",
    "        labels = new_labels.copy()\n",
    "        \n",
    "    return centroids, labels\n",
    "\n",
    "def get_input():\n",
    "    \"\"\"Lấy giá trị các input cần có trước khi thực hiện thuật toán K-means\"\"\"\n",
    "    img_path = input(\"Nhập vào tên file ảnh: \")\n",
    "\n",
    "    k_clusters = int(input(\"Nhập vào số lượng màu của ảnh mới: \"))\n",
    "    \n",
    "    max_iter = int(input(\"Nhập vào số lần lặp tối đa cho K-Means (default = 10): \"))\n",
    "    \n",
    "    init_centroids = input(\"Chọn cách khởi tạo các centroid (random/in_pixels): \")\n",
    "    \n",
    "    return img_path, k_clusters, max_iter, init_centroids\n",
    "\n",
    "\n",
    "# Biến này chỉ lưu lại các input để các cell con dùng giải thích code bên dưới không bị lỗi\n",
    "INPUTS = get_input()\n",
    "\n",
    "def main():\n",
    "    \"\"\"Hàm main của chương trình\"\"\"\n",
    "    \n",
    "    # Lấy các input cần thiết\n",
    "    img_path, k_clusters, max_iter, init_centroids = INPUTS\n",
    "    \n",
    "    # Đọc ảnh và thành ma trận các điểm ảnh\n",
    "    img = Image.open(img_path)\n",
    "    \n",
    "    img_arr = np.array(img)\n",
    "    \n",
    "    img_1D_arr = img_arr.reshape(img_arr.shape[0]*img_arr.shape[1], img_arr.shape[2])\n",
    "    # Sử dụng K-Means để tìm các centroid và label cho những điểm ảnh của ảnh gốc\n",
    "    start = time.time()\n",
    "    centroids, labels = kmeans(img_1D_arr.astype('float'), k_clusters, max_iter, init_centroids)\n",
    "    end = time.time()\n",
    "    # Thay màu của những điểm ảnh trong ảnh gốc bằng màu của centroid gần nhất\n",
    "    img_1D_reduced = centroids[labels]\n",
    "\n",
    "    # Chuyển ma trận điểm ảnh sau khi \"nén màu\" thành ảnh mới\n",
    "\n",
    "    img_reduced = Image.fromarray(np.uint8(img_1D_reduced.reshape(img_arr.shape)))\n",
    "\n",
    "    # Đo thời gian thực hiện K-means\n",
    "    print(f\"Running time: {end-start}\")\n",
    "    # Show ra ảnh sau khi giảm màu\n",
    "    figure, ax = plt.subplots(1,2)\n",
    "    ax[0].set_title(\"Ảnh gốc\")\n",
    "    ax[1].set_title(f\"Ảnh sau khi nén còn {k_clusters} màu\")\n",
    "    ax[0].imshow(img)\n",
    "    ax[1].imshow(img_reduced)\n",
    "    # Lưu ảnh mới dưới dạng nào?\n",
    "    output_format = input(\"Lưu ảnh dưới dạng: \")\n",
    "    # Lưu ảnh \n",
    "    output_file = f\"new_image.{output_format}\"\n",
    "    img_reduced.save(output_file)"
   ]
  },
  {
   "cell_type": "code",
   "execution_count": 15,
   "metadata": {},
   "outputs": [
    {
     "name": "stdout",
     "output_type": "stream",
     "text": [
      "Running time: 0.3190727233886719\n"
     ]
    },
    {
     "data": {
      "image/png": "[encoded data removed]",
      "text/plain": [
       "<Figure size 640x480 with 2 Axes>"
      ]
     },
     "metadata": {},
     "output_type": "display_data"
    }
   ],
   "source": [
    "# Gọi hàm main\n",
    "main()"
   ]
  },
  {
   "cell_type": "markdown",
   "metadata": {},
   "source": [
    "---"
   ]
  },
  {
   "cell_type": "markdown",
   "metadata": {},
   "source": [
    "# B. Giải thích mã nguồn của chương trình"
   ]
  },
  {
   "attachments": {},
   "cell_type": "markdown",
   "metadata": {},
   "source": [
    "## 0. Khai báo các thư viện sẽ sử dụng"
   ]
  },
  {
   "cell_type": "code",
   "execution_count": 16,
   "metadata": {},
   "outputs": [],
   "source": [
    "import numpy as np\n",
    "from PIL import Image\n",
    "import matplotlib.pyplot as plt"
   ]
  },
  {
   "attachments": {},
   "cell_type": "markdown",
   "metadata": {},
   "source": [
    "## 1. Đọc ảnh thành ma trận \n",
    "* Ảnh sẽ được chuyển thành một ma trận 3 chiều có số dòng, số cột tương ứng với kích thước chiều dọc, ngang của bức ảnh và chiều cuối cùng là số kênh màu (channel).\n",
    "     * VD: bức ảnh màu kích thước 3x4 sẽ được chuyển thành ma trận có 3 cột, 4 dòng, 3 kênh màu\n",
    "* Mỗi một phần tử của ma trận này là 1 điểm ảnh có 3 giá trị đại diện cho 3 màu RED-GREEN-BLUE.\n",
    "* Lưu ý: các giá trị kênh màu của từng điểm ảnh sẽ từ 0-255 cho nên chúng sẽ có kiểu dữ liệu là \"unsigned int 8 bit\". Chúng ta cần ép kiểu sang \"float\" trước khi đưa ma trận các điểm ảnh này vào hàm kmeans() vì trong hàm này ta sẽ sử dụng các hàm như norm(), mean() để thực hiện việc tính độ lớn vector, vector trung bình và chúng có thể cho ra các giá trị màu là số thực hoặc lớn hơn 255."
   ]
  },
  {
   "cell_type": "code",
   "execution_count": 17,
   "metadata": {
    "tags": []
   },
   "outputs": [],
   "source": [
    "filename = INPUTS[0]\n",
    "img = Image.open(filename)\n",
    "img_arr = np.array(img)\n",
    "img_1d_arr = img_arr.reshape(img_arr.shape[0]*img_arr.shape[1], img_arr.shape[2]).astype('float')"
   ]
  },
  {
   "attachments": {},
   "cell_type": "markdown",
   "metadata": {},
   "source": [
    "## 2. Thuật toán K-Mean\n",
    "### 2.1 Tạo ra một mảng các centroids ban đầu:\n",
    "*    Cách 1: Tạo các centroids có giá trị kênh màu ngẫu nhiên\n",
    "*    Cách 2: Tạo các centroids bằng cách chọn ngẫu nhiên từ các điểm ảnh trong ảnh gốc"
   ]
  },
  {
   "cell_type": "code",
   "execution_count": 18,
   "metadata": {},
   "outputs": [],
   "source": [
    "# Giả sử k = 3 centroids\n",
    "k_clusters = 3\n",
    "# Cách 1\n",
    "centroids = np.random.randint(0, 266, size=(k_clusters, img_1d_arr.shape[1])).astype('float')\n",
    "# Cách 2\n",
    "centroids_index = np.random.choice(img_1d_arr.shape[0], size=k_clusters, replace=False)\n",
    "centroids = img_1d_arr[centroids_index].astype('float')\n"
   ]
  },
  {
   "attachments": {},
   "cell_type": "markdown",
   "metadata": {},
   "source": [
    "### 2.2 Thực hiện gom nhóm các điểm ảnh để giảm số lượng màu của bức ảnh\n",
    "* Bước 1: Tính khoảng cách Euclid từ các điểm ảnh tới K centroids có sẵn.\n",
    "    * Áp dụng công thức Euclid ở phổ thông để tính khoảng cách giữa 2 điểm."
   ]
  },
  {
   "cell_type": "code",
   "execution_count": 19,
   "metadata": {},
   "outputs": [],
   "source": [
    "### Cách 1\n",
    "def euclidean_distances(X, Y):\n",
    "    \"\"\"\n",
    "    Tính khoảng cách Euclid giữa các điểm ảnh trong ma trận X và các centroids trong ma trận Y.\n",
    "    Input:\n",
    "        X: ma trận có kích thước (m, n), m là số lượng điểm (pixel), n là số chiều của mỗi điểm (số kênh màu).\n",
    "        Y: ma trận có kích thước (k, n), k là số lượng centroids, n là số chiều của mỗi điểm (số kênh màu).\n",
    "    Output:\n",
    "        ma trận chứa các khoảng cách có kích thước (m, k).\n",
    "    \"\"\"\n",
    "    m = X.shape[0]\n",
    "    k = Y.shape[0]\n",
    "    distances = np.zeros((m, k))\n",
    "    for i in range(m):\n",
    "        for j in range(k):\n",
    "            distances[i, j] = np.linalg.norm(X[i]-Y[j])\n",
    "    return distances\n"
   ]
  },
  {
   "cell_type": "code",
   "execution_count": 20,
   "metadata": {},
   "outputs": [],
   "source": [
    "### Cách 2\n",
    "distance_vectors = img_1d_arr[:, np.newaxis].astype('float') - centroids\n",
    "distances = np.linalg.norm(distance_vectors, axis=2)"
   ]
  },
  {
   "attachments": {},
   "cell_type": "markdown",
   "metadata": {},
   "source": [
    "* Giải thích dòng code trên:\n",
    "    * Dựa vào kết quả cách 1, ta biết là mảng \"distances\" là mảng 2 chiều chứa khoảng cách từ từng điểm ảnh đến tất cả centroid, \"distances[i][j]\" là khoảng cách từ điểm ảnh thứ i cho đến centroids thứ j.\n",
    "\n",
    "    * Vì vậy trước nhất ta cần tạo ra ma trận 3 chiều chứa các vector khoảng cách, với 2 chiều đầu tiên (axis = 0, axis = 1) là vector khoảng cách của điểm ảnh và centroid tương ứng, chiều thứ 3 (axis = 2) chính là chiều chứa 3 tọa độ của vector khoảng cách. Cuối cùng chỉ cần tính norm theo chiều này (axis = 2) thì ta sẽ tìm được norm của từng vector khoảng cách cũng chính là độ dài của từng điểm ảnh tới các centroid.\n",
    "\n",
    "    * \"img_1d_arr\" là 1 ma trận 2 chiều có kích thước (height x width, 3) nên \"img_1d_arr[:, np.newaxis]\" sẽ là 1 ma trận có dữ liệu giống như \"img_1d_arr\" nhưng giờ đây sẽ là 3 chiều (heiht x width, 1, 3).\n",
    "    * \"img_1d_arr[:, np.newaxis] - centroids\" sẽ trả về các vector khoảng cách của từng điểm ảnh trong \"img_1d_arr\" cho tới TẤT CẢ các centroids. Vì vậy \"distance_vectors\" sẽ là ma trận 3 chiều kích thước (height x width, k_clusters, 3).\n",
    "    \n",
    "    * Cuối cùng để tính norm của các vector khoảng cách này, ta sẽ dùng hàm được cấp sẵn trong thư viện numpy là np.linalg.norm(). Lưu ý phải gán tham số \"axis\" = 2 vì trục axis = 2 chính là trục chứa các tọa độ của vector khoảng cách, nên việc sử dụng hàm norm() theo trục này sẽ giúp ta tìm được kích thước các vector khoảng cách cũng chính là khoảng cách của điểm ảnh và centroid. Kết quả cuối cùng ta có được là ma trận 2 chiều (height x width, k_clusters) chứa khoảng cách từng điểm ảnh tới tất cả các centroid giống như ở cách 1.\n",
    "\n",
    "* Giải thích tham số \"axis\" có trong 1 số hàm của numpy:\n",
    "    * Tham số này sẽ giúp các hàm np.norm, np.mean, np.argmin,... biết là sẽ thực hiện tính toán theo trục nào của ma trận.\n",
    "    \n",
    "    * Giá trị mặc định của axis là \"None\" cho biết hàm sẽ được thực hiện trên các phần tử của toàn mảng. Nếu axis = 0 thì hàm sẽ được thực hiện trên trục dọc của ma trận tức là trên các phần tử cùng cột, axis = 1 thì hàm sẽ được thực hiện trên trục ngang ma trận, tức là trên các phần tử cùng hàng.\n",
    "\n",
    "---"
   ]
  },
  {
   "attachments": {},
   "cell_type": "markdown",
   "metadata": {},
   "source": [
    "* Bước 2: Gán nhãn cho các điểm ảnh dựa vào khoảng cách từ điểm đó cho tới các centroid.\n",
    "  Điểm ảnh gần centroid nào nhất thì sẽ được gán nhãn là index của centroid đó trong mảng \"centroids\" hiện tại.\n",
    "  - Ví dụ: labels[0] có giá trị là 3 sẽ đồng nghĩa là điểm ảnh đầu tiên sẽ được gom nhóm với centroid thứ 4 và màu của điểm ảnh này sẽ được thay đổi để cùng màu với centroid ấy."
   ]
  },
  {
   "cell_type": "code",
   "execution_count": 21,
   "metadata": {},
   "outputs": [],
   "source": [
    "labels = np.argmin(distances, axis=1)"
   ]
  },
  {
   "attachments": {},
   "cell_type": "markdown",
   "metadata": {},
   "source": [
    "* Giải thích dòng code trên:\n",
    "    * \"distances\" là một ma trận 2 chiều có m dòng n cột (m là số điểm ảnh của bức ảnh, n là số centroids) dùng để lưu khoảng cách của từng điểm ảnh với tất cả centroid.\n",
    "\n",
    "    * Với mỗi điểm ảnh, ta cần tìm ra khoảng cách đến centroid nào là bé nhất và thực hiện \"gom nhóm\" bằng cách gán labels của điểm ảnh ấy bằng index của centroid.\n",
    "\n",
    "    * np.argmin() sẽ thực hiện phần tử bé nhất và trả về index của nó. Ở đây cần lưu ý, ta tìm khoảng cách nhỏ nhất trong n khoảng cách tức là với mỗi hàng, ta sẽ tìm cột có giá trị nhỏ nhất trên hàng đó chứ không phải của cả ma trận. Vì vậy ta cần set giá trị tham số \"axis = 1\".\n",
    "\n",
    "    * Kết quả trả về sẽ là một ma trận 1 chiều có m phần tử: mỗi giá trị sẽ là label của 1 điểm ảnh. \n",
    "---"
   ]
  },
  {
   "attachments": {},
   "cell_type": "markdown",
   "metadata": {},
   "source": [
    "### 2.3 Cập nhật lại các centroid mới\n",
    "* Sau khi gom nhóm các điểm ảnh, ta sẽ tìm lại các centroid mới chính là vector trung bình của từng nhóm"
   ]
  },
  {
   "cell_type": "code",
   "execution_count": 22,
   "metadata": {},
   "outputs": [],
   "source": [
    "## Cách 1: Thực hiện gom nhóm bằng kỹ thuật lập trình cơ bản\n",
    "\n",
    "def grouping_pixels_1(i, labels):\n",
    "    \"\"\"\n",
    "    Thực hiện gom nhóm các điểm ảnh thuộc nhóm đang xét nhờ kĩ thuật dùng mảng boolean hay\n",
    "    còn gọi là mask trong numpy.\n",
    "    \n",
    "    Input:\n",
    "        i: index của nhóm đang xét\n",
    "        labels: mảng labels của các điểm ảnh\n",
    "    Output: \n",
    "        list chứa các index của các điểm ảnh thuộc nhóm i\n",
    "    \"\"\"\n",
    "    return [j for j in range(labels.shape[0]) if labels[j] == i]\n",
    "\n",
    "for i in range(k_clusters):\n",
    "    group_index = grouping_pixels_1(i, labels)\n",
    "    if group_index:\n",
    "        group_pixels = img_1d_arr[group_index]\n",
    "        centroids[i] = np.mean(group_pixels, axis=0)\n",
    "\n"
   ]
  },
  {
   "attachments": {},
   "cell_type": "markdown",
   "metadata": {},
   "source": [
    "* Giải thích cách 1: \n",
    "    * Để thực hiện tìm centroid mới, ta cần gom nhóm các điểm ảnh đã được gán nhãn ở bước 2.\n",
    "    * Xét từng nhóm, hàm grouping_pixels_1() sẽ trả về 1 list chứa index của những điểm ảnh thuộc nhóm tương ứng.\n",
    "    * Từ đó ta sẽ xác định được các điểm ảnh nào cùng nhóm với nhau sau đó dùng hàm np.mean() để tìm ra vector trung bình của nhóm này cũng chính là centroid mới.\n",
    "    * Lưu ý mảng \"img_1d_arr[group_index]\" là mảng 2 chiều chứa các điểm ảnh cùng nhóm, trục axis = 0 là trục các điểm ảnh nên ta cần set tham số \"axis\" = 0 khi xài hàm np.mean() để tìm ra được vector trung bình của nhóm các vector này."
   ]
  },
  {
   "cell_type": "code",
   "execution_count": 23,
   "metadata": {},
   "outputs": [],
   "source": [
    "def grouping_pixels_2(i, labels):\n",
    "    \"\"\"\n",
    "    Thực hiện gom nhóm các điểm ảnh thuộc nhóm đang xét nhờ kĩ thuật dùng mảng boolean hay\n",
    "    còn gọi là mask trong numpy.\n",
    "    \n",
    "    Input:\n",
    "        i: index của nhóm đang xét\n",
    "        labels: mảng labels của các điểm ảnh\n",
    "        img_1d: mảng các điểm ảnh\n",
    "    Output: \n",
    "        Mảng các điểm ảnh sẽ thuộc nhóm i\n",
    "    \"\"\"\n",
    "    bool_arr = (labels == i)\n",
    "    return bool_arr\n",
    "\n",
    "for i in range(k_clusters):\n",
    "    group_pixels = img_1d_arr[grouping_pixels_2(i, labels)]\n",
    "    if group_pixels.size > 0:\n",
    "        centroids[i] = np.mean(group_pixels, axis=0)"
   ]
  },
  {
   "attachments": {},
   "cell_type": "markdown",
   "metadata": {},
   "source": [
    "* Giải thích cách 2:\n",
    "    * Cách 1 không hiệu quả vì ta cần phải quét qua hết mảng \"labels\" để thực hiện gom nhóm nên thay vào đó ta có thể dùng mảng Boolean (hay còn gọi là Masks) trong numpy.\n",
    "    * Sau khi gom nhóm thì ta cũng sẽ tìm vector trung bình trong từng nhóm như ở cách 1.\n",
    "* Giải thích về mảng Boolean (Masks) trong numpy:\n",
    "    * Trong NumPy, một mask là một mảng boolean có cùng kích thước với một mảng khác, được sử dụng để chọn hoặc bỏ qua các phần tử trong mảng đó. Các phần tử tương ứng trong mask có giá trị True hoặc False tuỳ thuộc vào điều kiện được áp dụng cho mask.\n",
    "---    "
   ]
  },
  {
   "attachments": {},
   "cell_type": "markdown",
   "metadata": {},
   "source": [
    "### 2.4 Thực hiện lại việc tìm centroid nhiều lần\n",
    "* Lặp lại các bước 2.2 ở và 2.3 cho tới khi giá trị của các phần tử trong \"labels\" không đổi hoặc số lần lặp đạt giới hạn.\n",
    "---"
   ]
  },
  {
   "attachments": {},
   "cell_type": "markdown",
   "metadata": {},
   "source": [
    "## 3. Chuyển ma trận kết quả thành ảnh\n",
    "* Sau khi dùng thuật toán K-Means để tìm được các centroid và label của các điểm ảnh, thực hiện thay đổi màu của từng điểm ảnh sao cho trùng với màu của centroid cùng nhóm.\n",
    "* Chuyển ma trận điểm ảnh mới này thành file ảnh kết quả và hiển thị ra màn hình cũng như lưu lại dưới các định dạng png hay pdf,...\n",
    "---"
   ]
  }
 ],
 "metadata": {
  "kernelspec": {
   "display_name": "Python 3",
   "language": "python",
   "name": "python3"
  },
  "language_info": {
   "codemirror_mode": {
    "name": "ipython",
    "version": 3
   },
   "file_extension": ".py",
   "mimetype": "text/x-python",
   "name": "python",
   "nbconvert_exporter": "python",
   "pygments_lexer": "ipython3",
   "version": "3.11.1"
  },
  "orig_nbformat": 4
 },
 "nbformat": 4,
 "nbformat_minor": 2
}
