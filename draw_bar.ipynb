{
 "cells": [
  {
   "cell_type": "code",
   "execution_count": null,
   "metadata": {},
   "outputs": [],
   "source": [
    "import matplotlib.pyplot as plt\n",
    "\n",
    "WIDTH = 0.2\n",
    "# Functions\n",
    "def autolabel(rect_group):\n",
    "    for rects in rect_group:\n",
    "        for rect in rects:\n",
    "            height = rect.get_height()\n",
    "            # without xytext, the numbers on the top of each rect will be too close to the top of each rect\n",
    "            # So we need to put them far away the tops of the rects\n",
    "            #ax.annotate(str(height), xy=(rect.get_x()+rect.get_width()/2, height), ha = 'center')\n",
    "            ax.annotate(str(height), xy=(rect.get_x()+rect.get_width()/2, height), ha = 'center', \n",
    "                        xytext=(0, 3), textcoords='offset points', color='black')\n",
    "\n",
    "# data\n",
    "k = [\"k=3\", \"k=5\", \"k=7\"]\n",
    "time1 = [0.09, 0.231, 0.92]\n",
    "time2 = [6.06, 9.95, 42.26]\n",
    "# set up\n",
    "x_time1 = [x - WIDTH/2 for x in range(len(time1))]\n",
    "x_time2 = [x + WIDTH/2 for x in range(len(time2))]\n",
    "# Draw bar\n",
    "fig, ax = plt.subplots()\n",
    "rect1 = ax.bar(x_time1, time1, WIDTH, label=\"sử dụng hàm có sẵn\", color=\"red\")\n",
    "rect2 = ax.bar(x_time2, time2, WIDTH, label=\"sử dụng hàm tự tạo\", color=\"limegreen\")\n",
    "# Style\n",
    "ax.set_title(\"Time running comparison\")\n",
    "ax.set_ylabel(\"Time running (s)\")\n",
    "ax.legend()\n",
    "autolabel([rect1, rect2])\n",
    "\n",
    "# set the x-axis tick positions and labels\n",
    "ax.set_xticks([i for i in range(len(k))])\n",
    "ax.set_xticklabels(k)\n",
    "\n",
    "plt.show()"
   ]
  }
 ],
 "metadata": {
  "language_info": {
   "name": "python"
  },
  "orig_nbformat": 4
 },
 "nbformat": 4,
 "nbformat_minor": 2
}
